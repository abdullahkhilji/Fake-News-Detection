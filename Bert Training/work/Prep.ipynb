{
 "cells": [
  {
   "cell_type": "code",
   "execution_count": 80,
   "metadata": {},
   "outputs": [],
   "source": [
    "import pandas as pd"
   ]
  },
  {
   "cell_type": "code",
   "execution_count": 85,
   "metadata": {},
   "outputs": [],
   "source": [
    "train = pd.read_csv('../liar_dataset/train.tsv', sep='\\t', header=None)\n",
    "test = pd.read_csv('../liar_dataset/test.tsv', sep='\\t', header=None)\n",
    "val = pd.read_csv('../liar_dataset/valid.tsv', sep='\\t', header=None)"
   ]
  },
  {
   "cell_type": "code",
   "execution_count": 86,
   "metadata": {},
   "outputs": [],
   "source": [
    "ID = 'id'\n",
    "DATA_COLUMN = 'claim'\n",
    "LABEL_COLUMNS = ['True', 'Mostly-true', 'Half-true', 'Barely-true', 'FALSE', 'Pants-fire']"
   ]
  },
  {
   "cell_type": "code",
   "execution_count": 89,
   "metadata": {},
   "outputs": [],
   "source": [
    "def pre_process(train):\n",
    "    train = train.drop([3,4,5,6,7,8,9,10,11,12,13], axis=1)\n",
    "    train.columns = ['redundant','labels','claim']\n",
    "    cols = ['labels','redundant','claim']\n",
    "    train = train[cols]\n",
    "    train.loc[train['redundant'] != 0, 'redundant'] = \"a\"\n",
    "    train.loc[train['redundant'] != 0, 'redundant'] = \"a\"\n",
    "    train.loc[train['labels'] == 'true', 'labels'] = 0\n",
    "    train.loc[train['labels'] == 'mostly-true', 'labels'] = 1\n",
    "    train.loc[train['labels'] == 'half-true', 'labels'] = 2\n",
    "    train.loc[train['labels'] == 'barely-true', 'labels'] = 3\n",
    "    train.loc[train['labels'] == 'false', 'labels'] = 4\n",
    "    train.loc[train['labels'] == 'pants-fire', 'labels'] = 5\n",
    "    \n",
    "    return train"
   ]
  },
  {
   "cell_type": "code",
   "execution_count": 90,
   "metadata": {},
   "outputs": [],
   "source": [
    "train = pre_process(train)\n",
    "test = pre_process(test)\n",
    "val = pre_process(val)"
   ]
  },
  {
   "cell_type": "code",
   "execution_count": 96,
   "metadata": {},
   "outputs": [],
   "source": [
    "train.to_csv('train.tsv', sep='\\t', index=False, header=False)\n",
    "test.to_csv('test.tsv', sep='\\t', index=False, header=False)\n",
    "val.to_csv('val.tsv', sep='\\t', index=False, header=False)"
   ]
  },
  {
   "cell_type": "code",
   "execution_count": 97,
   "metadata": {},
   "outputs": [
    {
     "name": "stdout",
     "output_type": "stream",
     "text": [
      "Prep.ipynb test.tsv   train.tsv  val.tsv\r\n"
     ]
    }
   ],
   "source": [
    "!ls"
   ]
  },
  {
   "cell_type": "code",
   "execution_count": null,
   "metadata": {},
   "outputs": [],
   "source": []
  },
  {
   "cell_type": "code",
   "execution_count": null,
   "metadata": {},
   "outputs": [],
   "source": []
  }
 ],
 "metadata": {
  "kernelspec": {
   "display_name": "Python 3",
   "language": "python",
   "name": "python3"
  },
  "language_info": {
   "codemirror_mode": {
    "name": "ipython",
    "version": 3
   },
   "file_extension": ".py",
   "mimetype": "text/x-python",
   "name": "python",
   "nbconvert_exporter": "python",
   "pygments_lexer": "ipython3",
   "version": "3.6.8"
  }
 },
 "nbformat": 4,
 "nbformat_minor": 2
}
